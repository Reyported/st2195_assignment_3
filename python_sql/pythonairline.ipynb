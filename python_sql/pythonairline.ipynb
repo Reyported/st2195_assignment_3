{
 "cells": [
  {
   "cell_type": "markdown",
   "metadata": {},
   "source": [
    "# Python code for database"
   ]
  },
  {
   "cell_type": "code",
   "execution_count": 2,
   "metadata": {},
   "outputs": [],
   "source": [
    "import sqlite3"
   ]
  },
  {
   "cell_type": "code",
   "execution_count": 3,
   "metadata": {},
   "outputs": [
    {
     "name": "stdout",
     "output_type": "stream",
     "text": [
      "Database created/connected successfully.\n"
     ]
    }
   ],
   "source": [
    "airline2 = sqlite3.connect('airline2.db')\n",
    "cursor = airline2.cursor()\n",
    "print(\"Database created/connected successfully.\")"
   ]
  },
  {
   "cell_type": "code",
   "execution_count": 10,
   "metadata": {},
   "outputs": [],
   "source": [
    "import pandas as pd\n",
    "import glob\n",
    "import csv"
   ]
  },
  {
   "cell_type": "markdown",
   "metadata": {},
   "source": [
    "To create tables"
   ]
  },
  {
   "cell_type": "code",
   "execution_count": null,
   "metadata": {},
   "outputs": [],
   "source": [
    "airports = pd.read_csv(\"airports.csv\")\n",
    "carriers = pd.read_csv(\"carriers.csv\")\n",
    "planes = pd.read_csv(\"plane-data.csv\")\n",
    "\n",
    "ontime = pd.concat(map(pd.read_csv, glob.glob('200*.csv')))"
   ]
  },
  {
   "cell_type": "code",
   "execution_count": null,
   "metadata": {},
   "outputs": [],
   "source": [
    "airports.to_sql('airports', con= airline2, index = False)\n",
    "carriers.to_sql('carriers', con= airline2, index = False)\n",
    "planes.to_sql('planes', con= airline2, index = False)\n",
    "\n",
    "ontime.to_sql('ontime', con=airline2, index = False)"
   ]
  },
  {
   "cell_type": "markdown",
   "metadata": {},
   "source": [
    "Querying"
   ]
  },
  {
   "cell_type": "code",
   "execution_count": 22,
   "metadata": {},
   "outputs": [],
   "source": [
    "q1 = cursor.execute('''SELECT planes.model, SUM(1) As numplanes, AVG(DepDelay) As AverDelay, planes.manufacturer \n",
    "               FROM ontime LEFT JOIN planes ON ontime.tailnum=planes.tailnum \n",
    "               WHERE (DepDelay>0 AND Diverted = 0)\n",
    "               GROUP BY planes.model\n",
    "               ORDER BY AverDelay ASC\n",
    "               LIMIT 0,1;''').fetchall()\n",
    "\n",
    "q1=pd.DataFrame(q1)"
   ]
  },
  {
   "cell_type": "code",
   "execution_count": 23,
   "metadata": {},
   "outputs": [],
   "source": [
    "q1.to_csv('airline2q1.csv',index=False)"
   ]
  },
  {
   "cell_type": "code",
   "execution_count": 25,
   "metadata": {},
   "outputs": [],
   "source": [
    "q2 = cursor.execute('''SELECT ontime.Dest, SUM(1) As inflights\n",
    "FROM ontime LEFT JOIN airports ON ontime.Dest=airports.iata\n",
    "WHERE cancelled=0\n",
    "GROUP BY ontime.Dest\n",
    "ORDER BY inflights DESC\n",
    "LIMIT 0,1;''').fetchall()\n",
    "\n",
    "q2=pd.DataFrame(q2)"
   ]
  },
  {
   "cell_type": "code",
   "execution_count": 26,
   "metadata": {},
   "outputs": [],
   "source": [
    "q2.to_csv('airline2q2.csv',index=False)"
   ]
  },
  {
   "cell_type": "code",
   "execution_count": 27,
   "metadata": {},
   "outputs": [],
   "source": [
    "q3 = cursor.execute('''SELECT ontime.UniqueCarrier, SUM(1) As numflights, carriers.Description\n",
    "FROM ontime LEFT JOIN carriers ON ontime.UniqueCarrier=carriers.Code\n",
    "WHERE cancelled>0\n",
    "GROUP BY ontime.UniqueCarrier\n",
    "ORDER BY numflights DESC\n",
    "LIMIT 0,1;''').fetchall()\n",
    "\n",
    "q3=pd.DataFrame(q3)"
   ]
  },
  {
   "cell_type": "code",
   "execution_count": 28,
   "metadata": {},
   "outputs": [],
   "source": [
    "q3.to_csv('airline2q3.csv',index=False)"
   ]
  },
  {
   "cell_type": "code",
   "execution_count": 29,
   "metadata": {},
   "outputs": [],
   "source": [
    "q4 = cursor.execute('''WITH t1 AS (SELECT ontime.UniqueCarrier, SUM(1) As numflights, carriers.Description\n",
    "FROM ontime LEFT JOIN carriers ON ontime.UniqueCarrier=carriers.Code\n",
    "WHERE cancelled>0\n",
    "GROUP BY ontime.UniqueCarrier\n",
    "ORDER BY numflights DESC),\n",
    "t2 AS (SELECT ontime.UniqueCarrier, SUM(1) As numflights, carriers.Description\n",
    "FROM ontime LEFT JOIN carriers ON ontime.UniqueCarrier=carriers.Code\n",
    "GROUP BY ontime.UniqueCarrier\n",
    "ORDER BY numflights DESC)\n",
    "\n",
    "SELECT t2.UniqueCarrier, (CAST(t1.numflights AS REAL)/CAST(t2.numflights AS REAL)) AS Ratio \n",
    "FROM t2 \n",
    "JOIN t1 ON t1.UniqueCarrier=t2.UniqueCarrier\n",
    "ORDER BY Ratio DESC''').fetchall()\n",
    "\n",
    "q4=pd.DataFrame(q4)"
   ]
  },
  {
   "cell_type": "code",
   "execution_count": 30,
   "metadata": {},
   "outputs": [],
   "source": [
    "q4.to_csv('airline2q4.csv',index=False)"
   ]
  },
  {
   "cell_type": "code",
   "execution_count": 31,
   "metadata": {},
   "outputs": [],
   "source": [
    "airline2.close()"
   ]
  },
  {
   "cell_type": "code",
   "execution_count": null,
   "metadata": {},
   "outputs": [],
   "source": []
  }
 ],
 "metadata": {
  "kernelspec": {
   "display_name": "Python 3",
   "language": "python",
   "name": "python3"
  },
  "language_info": {
   "codemirror_mode": {
    "name": "ipython",
    "version": 3
   },
   "file_extension": ".py",
   "mimetype": "text/x-python",
   "name": "python",
   "nbconvert_exporter": "python",
   "pygments_lexer": "ipython3",
   "version": "3.8.3"
  }
 },
 "nbformat": 4,
 "nbformat_minor": 4
}
